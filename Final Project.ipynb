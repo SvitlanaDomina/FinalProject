{
 "cells": [
  {
   "cell_type": "code",
   "execution_count": 8,
   "metadata": {},
   "outputs": [
    {
     "name": "stdout",
     "output_type": "stream",
     "text": [
      "Enter your name:\n",
      "Jan, Enter your height (in m):\n",
      "Jan, Enter your weight:\n",
      "Your body mass index: 15.570934256055365\n",
      "Jan, you have a underweight\n"
     ]
    }
   ],
   "source": [
    "print ('Enter your name:')\n",
    "a = str (input())\n",
    "\n",
    "print (a + (', Enter your height (in m):'))\n",
    "height = float (input())\n",
    "print (a + (', Enter your weight:'))\n",
    "weight = int (input())\n",
    "\n",
    "bmi = weight / (height * height)\n",
    "print ('Your body mass index: ' + str(bmi))\n",
    "if bmi < 18:\n",
    "    print (a + (\", you have a underweight\"))\n",
    "\n",
    "elif bmi < 25:\n",
    "    print (a + ', you have normal weight')\n",
    "\n",
    "else:\n",
    "    print (a + ', you have overweight')\n",
    "\n"
   ]
  }
 ],
 "metadata": {
  "kernelspec": {
   "display_name": "Python 3.10.7 64-bit",
   "language": "python",
   "name": "python3"
  },
  "language_info": {
   "codemirror_mode": {
    "name": "ipython",
    "version": 3
   },
   "file_extension": ".py",
   "mimetype": "text/x-python",
   "name": "python",
   "nbconvert_exporter": "python",
   "pygments_lexer": "ipython3",
   "version": "3.10.7"
  },
  "orig_nbformat": 4,
  "vscode": {
   "interpreter": {
    "hash": "2fc34d259cedfb3658eb7bab9def6eb65a4611b888bc21c42d95ff8f738a0976"
   }
  }
 },
 "nbformat": 4,
 "nbformat_minor": 2
}
